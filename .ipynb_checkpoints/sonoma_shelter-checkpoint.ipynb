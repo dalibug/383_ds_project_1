{
 "cells": [
  {
   "cell_type": "markdown",
   "id": "e36f8ec3",
   "metadata": {
    "id": "aab1aa45"
   },
   "source": [
    "#  Visualizing Adoption and Return Trends in Sonoma Animal Data\n",
    "03/15/2024"
   ]
  },
  {
   "cell_type": "markdown",
   "id": "bc41da7b",
   "metadata": {
    "id": "8d17ef9f"
   },
   "source": [
    "#### Rafael L.S Reis, Dalia Cabrera Hurtado, Gabe Myers"
   ]
  },
  {
   "cell_type": "markdown",
   "id": "07406158",
   "metadata": {
    "id": "dd9d8a1b"
   },
   "source": [
    "## Introduction\n",
    "The Sonoma Animal Shelter dataset comprises 29,012 records detailing various attributes of animals admitted to the shelter, including demographic information, color descriptors, intake and outcome dates, and outcome types such as adoption or return to owner. This analysis seeks to answer two key questions: first, how does the number of days an animal spends in the shelter differ between those that are adopted and those that are returned to their owners; and second, is there an association between an animal's primary coat color—extracted from compound color entries—and its outcome or duration of shelter stay.\n",
    "\n",
    "note: This is tentative and we will likely hone down our scope of questionings(likely to colors)\n",
    "\n",
    "data downloaded from:\n",
    "https://raw.githubusercontent.com/grbruns/cst383/master/sonoma-shelter-15-october-2024.csv"
   ]
  },
  {
   "cell_type": "code",
   "execution_count": 33,
   "id": "850915fa",
   "metadata": {
    "id": "fdf3ed81"
   },
   "outputs": [],
   "source": [
    "import numpy as np\n",
    "import pandas as pd\n",
    "import matplotlib.pyplot as plt\n",
    "import seaborn as sns"
   ]
  },
  {
   "cell_type": "markdown",
   "id": "e5648def",
   "metadata": {
    "id": "f03dd8de"
   },
   "source": [
    "## Initial Data Exploration"
   ]
  },
  {
   "cell_type": "code",
   "execution_count": 36,
   "id": "e35d402b",
   "metadata": {
    "id": "8694f864"
   },
   "outputs": [],
   "source": [
    "df = pd.read_csv('https://raw.githubusercontent.com/grbruns/cst383/master/sonoma-shelter-15-october-2024.csv')"
   ]
  },
  {
   "cell_type": "markdown",
   "id": "f4f2decb",
   "metadata": {
    "id": "d1283d9a"
   },
   "source": [
    "## Data preprocessing"
   ]
  },
  {
   "cell_type": "code",
   "execution_count": 39,
   "id": "12735d7b",
   "metadata": {
    "colab": {
     "base_uri": "https://localhost:8080/"
    },
    "id": "85iYy59zSfzm",
    "outputId": "b0cffc8d-33bc-4a95-a8b7-02511d982bfc"
   },
   "outputs": [
    {
     "name": "stdout",
     "output_type": "stream",
     "text": [
      "<class 'pandas.core.frame.DataFrame'>\n",
      "RangeIndex: 29012 entries, 0 to 29011\n",
      "Data columns (total 24 columns):\n",
      "Name                    21354 non-null object\n",
      "Type                    29012 non-null object\n",
      "Breed                   29012 non-null object\n",
      "Color                   29012 non-null object\n",
      "Sex                     29012 non-null object\n",
      "Size                    28976 non-null object\n",
      "Date Of Birth           21897 non-null object\n",
      "Impound Number          29012 non-null object\n",
      "Kennel Number           29004 non-null object\n",
      "Animal ID               29012 non-null object\n",
      "Intake Date             29012 non-null object\n",
      "Outcome Date            28746 non-null object\n",
      "Days in Shelter         29012 non-null int64\n",
      "Intake Type             29012 non-null object\n",
      "Intake Subtype          29012 non-null object\n",
      "Outcome Type            28740 non-null object\n",
      "Outcome Subtype         28405 non-null object\n",
      "Intake Condition        29012 non-null object\n",
      "Outcome Condition       28383 non-null object\n",
      "Intake Jurisdiction     29012 non-null object\n",
      "Outcome Jurisdiction    24757 non-null object\n",
      "Outcome Zip Code        24756 non-null float64\n",
      "Location                24756 non-null object\n",
      "Count                   29012 non-null int64\n",
      "dtypes: float64(1), int64(2), object(21)\n",
      "memory usage: 5.3+ MB\n"
     ]
    }
   ],
   "source": [
    "df.info()"
   ]
  },
  {
   "cell_type": "code",
   "execution_count": 41,
   "id": "b7d5b5d4",
   "metadata": {
    "colab": {
     "base_uri": "https://localhost:8080/",
     "height": 714
    },
    "id": "lNr84NVtSjtG",
    "outputId": "f2363223-5fcd-4c64-8939-4eb98d3cbf3f"
   },
   "outputs": [
    {
     "data": {
      "text/html": [
       "<div>\n",
       "<style scoped>\n",
       "    .dataframe tbody tr th:only-of-type {\n",
       "        vertical-align: middle;\n",
       "    }\n",
       "\n",
       "    .dataframe tbody tr th {\n",
       "        vertical-align: top;\n",
       "    }\n",
       "\n",
       "    .dataframe thead th {\n",
       "        text-align: right;\n",
       "    }\n",
       "</style>\n",
       "<table border=\"1\" class=\"dataframe\">\n",
       "  <thead>\n",
       "    <tr style=\"text-align: right;\">\n",
       "      <th></th>\n",
       "      <th>Name</th>\n",
       "      <th>Type</th>\n",
       "      <th>Breed</th>\n",
       "      <th>Color</th>\n",
       "      <th>Sex</th>\n",
       "      <th>Size</th>\n",
       "      <th>Date Of Birth</th>\n",
       "      <th>Impound Number</th>\n",
       "      <th>Kennel Number</th>\n",
       "      <th>Animal ID</th>\n",
       "      <th>...</th>\n",
       "      <th>Intake Subtype</th>\n",
       "      <th>Outcome Type</th>\n",
       "      <th>Outcome Subtype</th>\n",
       "      <th>Intake Condition</th>\n",
       "      <th>Outcome Condition</th>\n",
       "      <th>Intake Jurisdiction</th>\n",
       "      <th>Outcome Jurisdiction</th>\n",
       "      <th>Outcome Zip Code</th>\n",
       "      <th>Location</th>\n",
       "      <th>Count</th>\n",
       "    </tr>\n",
       "  </thead>\n",
       "  <tbody>\n",
       "    <tr>\n",
       "      <th>27982</th>\n",
       "      <td>OCEAN</td>\n",
       "      <td>DOG</td>\n",
       "      <td>BOXER</td>\n",
       "      <td>WHITE</td>\n",
       "      <td>Female</td>\n",
       "      <td>MED</td>\n",
       "      <td>NaN</td>\n",
       "      <td>K19-034910</td>\n",
       "      <td>TRUCK</td>\n",
       "      <td>A395179</td>\n",
       "      <td>...</td>\n",
       "      <td>FIELD</td>\n",
       "      <td>RETURN TO OWNER</td>\n",
       "      <td>FLD_MCHIP</td>\n",
       "      <td>UNKNOWN</td>\n",
       "      <td>HEALTHY</td>\n",
       "      <td>SANTA ROSA</td>\n",
       "      <td>SANTA ROSA</td>\n",
       "      <td>95401.0</td>\n",
       "      <td>95401(38.44366, -122.7246163)</td>\n",
       "      <td>1</td>\n",
       "    </tr>\n",
       "    <tr>\n",
       "      <th>21423</th>\n",
       "      <td>29102</td>\n",
       "      <td>CAT</td>\n",
       "      <td>DOMESTIC SH</td>\n",
       "      <td>ORG TABBY</td>\n",
       "      <td>Male</td>\n",
       "      <td>KITTN</td>\n",
       "      <td>02/05/2023</td>\n",
       "      <td>K23-044302</td>\n",
       "      <td>HSSC</td>\n",
       "      <td>A416541</td>\n",
       "      <td>...</td>\n",
       "      <td>PHONE</td>\n",
       "      <td>TRANSFER</td>\n",
       "      <td>HSSC</td>\n",
       "      <td>UNKNOWN</td>\n",
       "      <td>PENDING</td>\n",
       "      <td>SANTA ROSA</td>\n",
       "      <td>COUNTY</td>\n",
       "      <td>95407.0</td>\n",
       "      <td>95407(38.4127094, -122.7412153)</td>\n",
       "      <td>1</td>\n",
       "    </tr>\n",
       "    <tr>\n",
       "      <th>4442</th>\n",
       "      <td>*KARI</td>\n",
       "      <td>CAT</td>\n",
       "      <td>DOMESTIC SH</td>\n",
       "      <td>TORTIE</td>\n",
       "      <td>Spayed</td>\n",
       "      <td>KITTN</td>\n",
       "      <td>06/01/2018</td>\n",
       "      <td>K18-029389</td>\n",
       "      <td>LOBBY</td>\n",
       "      <td>A375217</td>\n",
       "      <td>...</td>\n",
       "      <td>OVER THE COUNTER</td>\n",
       "      <td>ADOPTION</td>\n",
       "      <td>SPEC EVENT</td>\n",
       "      <td>TREATABLE/REHAB</td>\n",
       "      <td>HEALTHY</td>\n",
       "      <td>SANTA ROSA</td>\n",
       "      <td>COUNTY</td>\n",
       "      <td>95472.0</td>\n",
       "      <td>95472(38.4007555, -122.8277055)</td>\n",
       "      <td>1</td>\n",
       "    </tr>\n",
       "    <tr>\n",
       "      <th>8685</th>\n",
       "      <td>BILLY</td>\n",
       "      <td>DOG</td>\n",
       "      <td>PIT BULL</td>\n",
       "      <td>WHITE/BR BRINDLE</td>\n",
       "      <td>Neutered</td>\n",
       "      <td>LARGE</td>\n",
       "      <td>NaN</td>\n",
       "      <td>K18-029143</td>\n",
       "      <td>DS92</td>\n",
       "      <td>A396164</td>\n",
       "      <td>...</td>\n",
       "      <td>FLD_ARREST</td>\n",
       "      <td>RETURN TO OWNER</td>\n",
       "      <td>OVER THE COUNTER_ARREST</td>\n",
       "      <td>HEALTHY</td>\n",
       "      <td>HEALTHY</td>\n",
       "      <td>SANTA ROSA</td>\n",
       "      <td>SANTA ROSA</td>\n",
       "      <td>95401.0</td>\n",
       "      <td>95401(38.44366, -122.7246163)</td>\n",
       "      <td>1</td>\n",
       "    </tr>\n",
       "    <tr>\n",
       "      <th>8578</th>\n",
       "      <td>WILLOW</td>\n",
       "      <td>DOG</td>\n",
       "      <td>LABRADOR RETR/GOLDEN RETR</td>\n",
       "      <td>GOLD</td>\n",
       "      <td>Spayed</td>\n",
       "      <td>LARGE</td>\n",
       "      <td>12/30/2015</td>\n",
       "      <td>K23-043920</td>\n",
       "      <td>DS58</td>\n",
       "      <td>A341729</td>\n",
       "      <td>...</td>\n",
       "      <td>OVER THE COUNTER</td>\n",
       "      <td>RETURN TO OWNER</td>\n",
       "      <td>OVER THE COUNTER_MCHIP</td>\n",
       "      <td>UNKNOWN</td>\n",
       "      <td>PENDING</td>\n",
       "      <td>COUNTY</td>\n",
       "      <td>COUNTY</td>\n",
       "      <td>95472.0</td>\n",
       "      <td>95472(38.4007555, -122.8277055)</td>\n",
       "      <td>1</td>\n",
       "    </tr>\n",
       "    <tr>\n",
       "      <th>3422</th>\n",
       "      <td>BRUNO</td>\n",
       "      <td>DOG</td>\n",
       "      <td>LABRADOR RETR</td>\n",
       "      <td>BLACK</td>\n",
       "      <td>Neutered</td>\n",
       "      <td>MED</td>\n",
       "      <td>NaN</td>\n",
       "      <td>K16-021191</td>\n",
       "      <td>TRUCK</td>\n",
       "      <td>A343787</td>\n",
       "      <td>...</td>\n",
       "      <td>FIELD</td>\n",
       "      <td>RETURN TO OWNER</td>\n",
       "      <td>FLD_MCHIP</td>\n",
       "      <td>HEALTHY</td>\n",
       "      <td>HEALTHY</td>\n",
       "      <td>COUNTY</td>\n",
       "      <td>COUNTY</td>\n",
       "      <td>95476.0</td>\n",
       "      <td>95476(38.288405, -122.464525)</td>\n",
       "      <td>1</td>\n",
       "    </tr>\n",
       "    <tr>\n",
       "      <th>10740</th>\n",
       "      <td>EMILY</td>\n",
       "      <td>DOG</td>\n",
       "      <td>ITAL GREYHOUND</td>\n",
       "      <td>BLACK/WHITE</td>\n",
       "      <td>Female</td>\n",
       "      <td>SMALL</td>\n",
       "      <td>NaN</td>\n",
       "      <td>K14-011893</td>\n",
       "      <td>TRUCK</td>\n",
       "      <td>A314423</td>\n",
       "      <td>...</td>\n",
       "      <td>FLD_ARREST</td>\n",
       "      <td>RETURN TO OWNER</td>\n",
       "      <td>FLD_PRVS</td>\n",
       "      <td>HEALTHY</td>\n",
       "      <td>HEALTHY</td>\n",
       "      <td>COUNTY</td>\n",
       "      <td>*ROHNERT PARK</td>\n",
       "      <td>NaN</td>\n",
       "      <td>NaN</td>\n",
       "      <td>1</td>\n",
       "    </tr>\n",
       "    <tr>\n",
       "      <th>3748</th>\n",
       "      <td>NaN</td>\n",
       "      <td>DOG</td>\n",
       "      <td>GERM SHEPHERD</td>\n",
       "      <td>BLACK/TAN</td>\n",
       "      <td>Female</td>\n",
       "      <td>LARGE</td>\n",
       "      <td>NaN</td>\n",
       "      <td>K19-032272</td>\n",
       "      <td>DQ113</td>\n",
       "      <td>A387165</td>\n",
       "      <td>...</td>\n",
       "      <td>FLD_STRAY</td>\n",
       "      <td>EUTHANIZE</td>\n",
       "      <td>AGGRESSIVE</td>\n",
       "      <td>UNKNOWN</td>\n",
       "      <td>HEALTHY</td>\n",
       "      <td>SANTA ROSA</td>\n",
       "      <td>SANTA ROSA</td>\n",
       "      <td>95407.0</td>\n",
       "      <td>95407(38.4127094, -122.7412153)</td>\n",
       "      <td>1</td>\n",
       "    </tr>\n",
       "    <tr>\n",
       "      <th>11462</th>\n",
       "      <td>CHUY</td>\n",
       "      <td>DOG</td>\n",
       "      <td>PIT BULL</td>\n",
       "      <td>TAN/GRAY</td>\n",
       "      <td>Neutered</td>\n",
       "      <td>LARGE</td>\n",
       "      <td>05/13/2016</td>\n",
       "      <td>K22-040416</td>\n",
       "      <td>DS76</td>\n",
       "      <td>A339772</td>\n",
       "      <td>...</td>\n",
       "      <td>FIELD</td>\n",
       "      <td>RETURN TO OWNER</td>\n",
       "      <td>OVER THE COUNTER_WEB</td>\n",
       "      <td>UNKNOWN</td>\n",
       "      <td>PENDING</td>\n",
       "      <td>SANTA ROSA</td>\n",
       "      <td>SANTA ROSA</td>\n",
       "      <td>95403.0</td>\n",
       "      <td>95403(38.4716444, -122.7398255)</td>\n",
       "      <td>1</td>\n",
       "    </tr>\n",
       "    <tr>\n",
       "      <th>24827</th>\n",
       "      <td>*PATRICK</td>\n",
       "      <td>CAT</td>\n",
       "      <td>DOMESTIC SH</td>\n",
       "      <td>BRN TABBY</td>\n",
       "      <td>Neutered</td>\n",
       "      <td>KITTN</td>\n",
       "      <td>07/28/2020</td>\n",
       "      <td>K20-036880</td>\n",
       "      <td>WESTFARM</td>\n",
       "      <td>A400655</td>\n",
       "      <td>...</td>\n",
       "      <td>OVER THE COUNTER</td>\n",
       "      <td>ADOPTION</td>\n",
       "      <td>WESTFARM</td>\n",
       "      <td>UNKNOWN</td>\n",
       "      <td>PENDING</td>\n",
       "      <td>COUNTY</td>\n",
       "      <td>COUNTY</td>\n",
       "      <td>95403.0</td>\n",
       "      <td>95403(38.4716444, -122.7398255)</td>\n",
       "      <td>1</td>\n",
       "    </tr>\n",
       "  </tbody>\n",
       "</table>\n",
       "<p>10 rows × 24 columns</p>\n",
       "</div>"
      ],
      "text/plain": [
       "           Name Type                      Breed             Color       Sex  \\\n",
       "27982     OCEAN  DOG                      BOXER             WHITE    Female   \n",
       "21423     29102  CAT                DOMESTIC SH         ORG TABBY      Male   \n",
       "4442      *KARI  CAT                DOMESTIC SH            TORTIE    Spayed   \n",
       "8685      BILLY  DOG                   PIT BULL  WHITE/BR BRINDLE  Neutered   \n",
       "8578     WILLOW  DOG  LABRADOR RETR/GOLDEN RETR              GOLD    Spayed   \n",
       "3422      BRUNO  DOG              LABRADOR RETR             BLACK  Neutered   \n",
       "10740     EMILY  DOG             ITAL GREYHOUND       BLACK/WHITE    Female   \n",
       "3748        NaN  DOG              GERM SHEPHERD         BLACK/TAN    Female   \n",
       "11462      CHUY  DOG                   PIT BULL          TAN/GRAY  Neutered   \n",
       "24827  *PATRICK  CAT                DOMESTIC SH         BRN TABBY  Neutered   \n",
       "\n",
       "        Size Date Of Birth Impound Number Kennel Number Animal ID  ...   \\\n",
       "27982    MED           NaN     K19-034910         TRUCK   A395179  ...    \n",
       "21423  KITTN    02/05/2023     K23-044302          HSSC   A416541  ...    \n",
       "4442   KITTN    06/01/2018     K18-029389         LOBBY   A375217  ...    \n",
       "8685   LARGE           NaN     K18-029143          DS92   A396164  ...    \n",
       "8578   LARGE    12/30/2015     K23-043920          DS58   A341729  ...    \n",
       "3422     MED           NaN     K16-021191         TRUCK   A343787  ...    \n",
       "10740  SMALL           NaN     K14-011893         TRUCK   A314423  ...    \n",
       "3748   LARGE           NaN     K19-032272         DQ113   A387165  ...    \n",
       "11462  LARGE    05/13/2016     K22-040416          DS76   A339772  ...    \n",
       "24827  KITTN    07/28/2020     K20-036880      WESTFARM   A400655  ...    \n",
       "\n",
       "         Intake Subtype     Outcome Type          Outcome Subtype  \\\n",
       "27982             FIELD  RETURN TO OWNER                FLD_MCHIP   \n",
       "21423             PHONE         TRANSFER                     HSSC   \n",
       "4442   OVER THE COUNTER         ADOPTION               SPEC EVENT   \n",
       "8685         FLD_ARREST  RETURN TO OWNER  OVER THE COUNTER_ARREST   \n",
       "8578   OVER THE COUNTER  RETURN TO OWNER   OVER THE COUNTER_MCHIP   \n",
       "3422              FIELD  RETURN TO OWNER                FLD_MCHIP   \n",
       "10740        FLD_ARREST  RETURN TO OWNER                 FLD_PRVS   \n",
       "3748          FLD_STRAY        EUTHANIZE               AGGRESSIVE   \n",
       "11462             FIELD  RETURN TO OWNER     OVER THE COUNTER_WEB   \n",
       "24827  OVER THE COUNTER         ADOPTION                 WESTFARM   \n",
       "\n",
       "      Intake Condition Outcome Condition Intake Jurisdiction  \\\n",
       "27982          UNKNOWN           HEALTHY          SANTA ROSA   \n",
       "21423          UNKNOWN           PENDING          SANTA ROSA   \n",
       "4442   TREATABLE/REHAB           HEALTHY          SANTA ROSA   \n",
       "8685           HEALTHY           HEALTHY          SANTA ROSA   \n",
       "8578           UNKNOWN           PENDING              COUNTY   \n",
       "3422           HEALTHY           HEALTHY              COUNTY   \n",
       "10740          HEALTHY           HEALTHY              COUNTY   \n",
       "3748           UNKNOWN           HEALTHY          SANTA ROSA   \n",
       "11462          UNKNOWN           PENDING          SANTA ROSA   \n",
       "24827          UNKNOWN           PENDING              COUNTY   \n",
       "\n",
       "      Outcome Jurisdiction Outcome Zip Code                         Location  \\\n",
       "27982           SANTA ROSA          95401.0    95401(38.44366, -122.7246163)   \n",
       "21423               COUNTY          95407.0  95407(38.4127094, -122.7412153)   \n",
       "4442                COUNTY          95472.0  95472(38.4007555, -122.8277055)   \n",
       "8685            SANTA ROSA          95401.0    95401(38.44366, -122.7246163)   \n",
       "8578                COUNTY          95472.0  95472(38.4007555, -122.8277055)   \n",
       "3422                COUNTY          95476.0    95476(38.288405, -122.464525)   \n",
       "10740        *ROHNERT PARK              NaN                              NaN   \n",
       "3748            SANTA ROSA          95407.0  95407(38.4127094, -122.7412153)   \n",
       "11462           SANTA ROSA          95403.0  95403(38.4716444, -122.7398255)   \n",
       "24827               COUNTY          95403.0  95403(38.4716444, -122.7398255)   \n",
       "\n",
       "      Count  \n",
       "27982     1  \n",
       "21423     1  \n",
       "4442      1  \n",
       "8685      1  \n",
       "8578      1  \n",
       "3422      1  \n",
       "10740     1  \n",
       "3748      1  \n",
       "11462     1  \n",
       "24827     1  \n",
       "\n",
       "[10 rows x 24 columns]"
      ]
     },
     "execution_count": 41,
     "metadata": {},
     "output_type": "execute_result"
    }
   ],
   "source": [
    "df.sample(10)"
   ]
  },
  {
   "cell_type": "markdown",
   "id": "1c5e87a3",
   "metadata": {
    "id": "K1CCaeqrSsuf"
   },
   "source": [
    "Among dogs returned to their owners, which coat colors are most frequently associated with being lost or having escaped? To try explore this, we can create a simplified color category column to analyze color hues effectively."
   ]
  },
  {
   "cell_type": "markdown",
   "id": "4a25c2e9",
   "metadata": {
    "id": "5clMunrXW8SN"
   },
   "source": [
    "Below are the functions to help create a new column to get the color shade of the animals"
   ]
  },
  {
   "cell_type": "code",
   "execution_count": 44,
   "id": "398b4cfd",
   "metadata": {
    "id": "olpOT58oT0WN"
   },
   "outputs": [],
   "source": [
    "# Function to get primary color from a color string\n",
    "def get_primary_color(color):\n",
    "    if pd.isnull(color):\n",
    "        return 'unknown'\n",
    "    return color.split('/')[0].strip().lower()\n",
    "\n",
    "# Helper function to check if primary color is in a given list, maybe not necessary but cleaner?\n",
    "def primary_color_in_list(primary_color, shades_list):\n",
    "    return any(shade in primary_color for shade in shades_list)\n",
    "\n",
    "# Function to categorize color into Light, Medium, Dark, or Other shades\n",
    "def categorize_shade(color):\n",
    "    if pd.isna(color):\n",
    "        return 'Unknown'\n",
    "\n",
    "    primary_color = get_primary_color(color)\n",
    "    # mappings, might play around with these more...\n",
    "    dark_shades = ['black', 'brown', 'brindle', 'blue', 'gray', 'chocolate', 'seal']\n",
    "    medium_shades = ['tan', 'red', 'gold', 'fawn', 'sable', 'yellow', 'orange']\n",
    "    light_shades = ['white', 'cream', 'buff']\n",
    "\n",
    "    if primary_color_in_list(primary_color, dark_shades):\n",
    "        return 'Dark'\n",
    "    elif primary_color_in_list(primary_color, medium_shades):\n",
    "        return 'Medium'\n",
    "    elif primary_color_in_list(primary_color, light_shades):\n",
    "        return 'Light'\n",
    "    else:\n",
    "        return 'Other'\n",
    "\n"
   ]
  },
  {
   "cell_type": "markdown",
   "id": "1dd3a47e",
   "metadata": {
    "id": "SOMAFVapXsnL"
   },
   "source": [
    "Applying filter to create column"
   ]
  },
  {
   "cell_type": "code",
   "execution_count": null,
   "id": "4d39ec06",
   "metadata": {
    "colab": {
     "base_uri": "https://localhost:8080/"
    },
    "id": "86v1ug83Xu0k",
    "lines_to_next_cell": 2,
    "outputId": "edd3ad89-8330-4369-8e69-8438d4174ff1"
   },
   "outputs": [],
   "source": [
    "dogs_returned = df[\n",
    "    (df['Type'] == 'DOG') &\n",
    "    (df['Outcome Type'].str.upper() == 'RETURN TO OWNER')\n",
    "].copy()\n",
    "\n",
    "# Create 'Primary Color' column\n",
    "dogs_returned['Primary Color'] = dogs_returned['Color'].apply(get_primary_color)\n",
    "\n",
    "# Create 'Primary Shade' column correctly\n",
    "dogs_returned['Primary Shade'] = dogs_returned['Primary Color'].apply(categorize_shade)\n",
    "\n",
    "# just sampling to check if things look about right\n",
    "print(dogs_returned[['Name', 'Color', 'Primary Color', 'Primary Shade']].head(10))"
   ]
  },
  {
   "cell_type": "markdown",
   "id": "ca090b4c",
   "metadata": {
    "id": "5a3a9d08"
   },
   "source": [
    "## Data exploration and visualization"
   ]
  },
  {
   "cell_type": "markdown",
   "id": "e2d1a558",
   "metadata": {
    "id": "QOJShgqBU5m-"
   },
   "source": [
    "Exploring data from primary color column"
   ]
  },
  {
   "cell_type": "code",
   "execution_count": null,
   "id": "51609dcc",
   "metadata": {
    "colab": {
     "base_uri": "https://localhost:8080/",
     "height": 513
    },
    "id": "QR9EFrXnU-13",
    "outputId": "cad25fca-e367-485d-90dc-ff2a33182fb5"
   },
   "outputs": [],
   "source": [
    "# Plot the shade distribution\n",
    "shade_counts = dogs_returned['Primary Shade'].value_counts()\n",
    "shade_counts.plot(kind='bar')\n",
    "\n",
    "plt.title('Distribution of Coat Shades for Dogs Returned to Owners')\n",
    "plt.xlabel('Shade Category')\n",
    "plt.ylabel('Number of Dogs')\n",
    "plt.show()"
   ]
  },
  {
   "cell_type": "markdown",
   "id": "f4e543d3",
   "metadata": {
    "id": "oswY20dtVAhI"
   },
   "source": [
    "Data above looks good(at least we can see the relative primary colors), but doesn't give us the full picture, maybe there's just more black dogs. Let's explore some more. Out of all dogs of a given shade, what's the proportion successfully returned to their owner?"
   ]
  },
  {
   "cell_type": "code",
   "execution_count": null,
   "id": "dd796608",
   "metadata": {
    "colab": {
     "base_uri": "https://localhost:8080/",
     "height": 207
    },
    "id": "tdgI649qVLXs",
    "lines_to_next_cell": 2,
    "outputId": "1128c834-33ca-49c7-afa7-8a4979588d51"
   },
   "outputs": [],
   "source": [
    "# Calculate the total count and returned count per shade\n",
    "shade_summary = dogs_df.groupby('Primary Shade')['Returned'].agg(['sum', 'count'])\n",
    "shade_summary['Returned Proportion'] = shade_summary['sum'] / shade_summary['count']\n",
    "shade_summary = shade_summary.sort_values('Returned Proportion')\n",
    "\n",
    "#print(shade_summary)\n",
    "\n",
    "#proportion of returned dogs by shade\n",
    "plt.figure(figsize=(8,6))\n",
    "plt.bar(shade_summary.index, shade_summary['Returned Proportion'])\n",
    "plt.title('Proportion of Dogs Returned to Owner by Coat Shade')\n",
    "plt.xlabel('Coat Shade')\n",
    "plt.ylabel('Proportion Returned')\n",
    "plt.show()"
   ]
  },
  {
   "cell_type": "markdown",
   "id": "b672c88b",
   "metadata": {
    "id": "HJL2Usawa8S8"
   },
   "source": [
    "There seems to be a difference, but slight, is it enough to draw any conlusions? Do i need to clean the data better so we dont have 'Other'?"
   ]
  },
  {
   "cell_type": "markdown",
   "id": "88e85a37",
   "metadata": {
    "id": "_XDOGUt0dOfh"
   },
   "source": [
    "Other exploration ideas: Time in shelter - Dogs who got returned vs not returned:"
   ]
  },
  {
   "cell_type": "code",
   "execution_count": null,
   "id": "70890b9b",
   "metadata": {
    "colab": {
     "base_uri": "https://localhost:8080/",
     "height": 207
    },
    "id": "8x5Yu-r3a-qx",
    "outputId": "ec53b2f8-001e-49d6-e23f-ab56b6963bdb"
   },
   "outputs": [],
   "source": [
    "dogs_df['Returned'] = (dogs_df['Outcome Type'].str.upper() == 'RETURN TO OWNER').astype(int)\n",
    "#print(dogs_df[['Primary Shade', 'Returned']].head())\n",
    "\n",
    "sns.violinplot(\n",
    "    data=dogs_df,\n",
    "    x='Returned',\n",
    "    y='Days in Shelter',\n",
    "    hue='Primary Shade',\n",
    "    # split=True,\n",
    "    inner='quartile',\n",
    "    cut=0  # so the violin doesn't extend beyond actual data\n",
    ")\n",
    "plt.yscale('log')  # Compress large values\n",
    "plt.title('Distribution of Days in Shelter (Log Scale)')\n",
    "plt.xlabel('Returned Status (0 = Not Returned, 1 = Returned)')\n",
    "plt.ylabel('Days in Shelter (log scale)')\n",
    "plt.legend(title='Coat Shade', loc='upper right')\n",
    "plt.tight_layout()\n",
    "plt.show()"
   ]
  },
  {
   "cell_type": "markdown",
   "id": "03343006",
   "metadata": {
    "id": "78cGnub7fx7n"
   },
   "source": [
    "We're uncertain how relevant this is, needs further investigation and better plotting."
   ]
  },
  {
   "cell_type": "markdown",
   "id": "81911968",
   "metadata": {
    "id": "Dzp5QNGsgCe1"
   },
   "source": [
    "### Adoptet vs Found owner\n",
    "Trying to improve or get a different angle from the above violin plot"
   ]
  },
  {
   "cell_type": "code",
   "execution_count": null,
   "id": "d9b081ae",
   "metadata": {
    "id": "xar0vIk3gKx5"
   },
   "outputs": [],
   "source": [
    "# Filter dataset to include only dogs that were either adopted or returned to owner\n",
    "dogs_subset = df[\n",
    "    (df['Type'] == 'DOG') &\n",
    "    (df['Outcome Type'].str.upper().isin(['ADOPTION', 'RETURN TO OWNER']))\n",
    "].copy()\n",
    "\n",
    "# 2. Standardize the Outcome Type to make data cleaner, was haivng issues\n",
    "dogs_subset['Outcome Type'] = dogs_subset['Outcome Type'].str.upper()\n",
    "\n",
    "#boxplot for Days in Shelter by Outcome Type\n",
    "sns.boxplot(data=dogs_subset, x='Outcome Type', y='Days in Shelter')\n",
    "plt.title('Comparing Days in Shelter: Adopted vs. Returned to Owner')\n",
    "plt.xlabel('Outcome Type')\n",
    "plt.ylabel('Days in Shelter')\n",
    "plt.tight_layout()\n",
    "plt.show()"
   ]
  },
  {
   "cell_type": "markdown",
   "id": "a5f502ef",
   "metadata": {
    "id": "rBXU-9yurjh5"
   },
   "source": [
    "We need to get a better fit for this graph, and while stil not ideal, the violin graph seems better than this one to represent days in shelter x Returned vs not returned"
   ]
  },
  {
   "cell_type": "markdown",
   "id": "6b3219ac",
   "metadata": {
    "id": "on3zYlwikfXv"
   },
   "source": [
    "###Exploring colors - how long they take to get adopted"
   ]
  },
  {
   "cell_type": "code",
   "execution_count": null,
   "id": "ae8daa22",
   "metadata": {
    "id": "MUMiFzy_gvzC"
   },
   "outputs": [],
   "source": [
    "common_colors = dogs_df['Primary Color'].value_counts()\n",
    "common_colors = common_colors[common_colors >= 30].index.tolist()\n",
    "common_color_df = dogs_df[dogs_df['Primary Color'].isin(common_colors)]\n",
    "filtered_df = common_color_df[common_color_df['Days in Shelter'] <= 60]\n",
    "\n",
    "plt.figure(figsize=(12, 8))\n",
    "ax = sns.boxplot(\n",
    "    data=filtered_df,\n",
    "    x='Primary Color',\n",
    "    y='Days in Shelter',\n",
    "    hue='Primary Color',\n",
    "    palette='Set1'\n",
    ")\n",
    "\n",
    "plt.title('Distribution of Days in Shelter (< 100 Days) by Primary Color\\n(Common Colors Only)')\n",
    "plt.xlabel('Primary Color')\n",
    "plt.ylabel('Days in Shelter')\n",
    "plt.xticks(rotation=45)\n",
    "plt.show()"
   ]
  },
  {
   "cell_type": "markdown",
   "id": "a413b4d0",
   "metadata": {
    "id": "3ZKxDI-zkoEM"
   },
   "source": [
    "It seems certain colors (silver, gold and yellow) are adopted faster than avarage whilst other take longer(tan, blue, buff). We might need to come p with a better way to represented colors."
   ]
  },
  {
   "cell_type": "code",
   "execution_count": null,
   "id": "c7ad2df1",
   "metadata": {
    "colab": {
     "base_uri": "https://localhost:8080/",
     "height": 704
    },
    "id": "SrMSG7GwtfrW",
    "outputId": "bd8b2852-f501-4547-c370-a230a1acb19f"
   },
   "outputs": [],
   "source": [
    "df[\"Intake Date\"] = pd.to_datetime(df[\"Intake Date\"])\n",
    "df[\"Outcome Date\"] = pd.to_datetime(df[\"Outcome Date\"])\n",
    "df[\"length_of_stay\"] = (df[\"Outcome Date\"] - df[\"Intake Date\"]).dt.days\n",
    "\n",
    "df[\"Outcome Type\"] = df[\"Outcome Type\"].str.strip().str.lower()\n",
    "df_return = df[df[\"Outcome Type\"] == \"return to owner\"]\n",
    "\n",
    "df_return[\"Type\"] = df_return[\"Type\"].str.strip().str.lower()\n",
    "df_return = df_return[df_return[\"Type\"].isin([\"cat\", \"dog\"])]\n",
    "\n",
    "animal_types = df_return[\"Type\"].unique()\n",
    "\n",
    "fig, axs = plt.subplots(1, len(animal_types), figsize=(12, 6), sharex=True, sharey=True)\n",
    "if len(animal_types) == 1:\n",
    "    axs = [axs]\n",
    "\n",
    "for i, animal in enumerate(animal_types):\n",
    "    data = df_return[df_return[\"Type\"] == animal][\"length_of_stay\"]\n",
    "    data.plot.density(ax=axs[i], label=animal)\n",
    "    axs[i].set_title(f\"Density for {animal.capitalize()}\", fontweight='bold')\n",
    "    axs[i].set_xlabel(\"Length of Stay (days)\")\n",
    "    axs[i].set_ylabel(\"Density\")\n",
    "    axs[i].set_xlim(-10, 50)\n",
    "    axs[i].tick_params(axis='y', labelleft=True, labelright=False)\n",
    "\n",
    "plt.suptitle(\"Density of Length of Stay for Animals Returned to Owner by Type\", fontweight='bold', fontsize=20)\n",
    "plt.show()"
   ]
  },
  {
   "cell_type": "markdown",
   "id": "206dc8de",
   "metadata": {
    "id": "wHdO3JRYuVsO"
   },
   "source": [
    "The data suggest that the duration of an animal's stay is strongly associated with whether it is returned to its owner, implying that length of stay may be a useful predictor of this outcome.\n"
   ]
  },
  {
   "cell_type": "code",
   "execution_count": null,
   "id": "417434f9",
   "metadata": {
    "colab": {
     "base_uri": "https://localhost:8080/",
     "height": 578
    },
    "id": "3GYXQk4NvIsY",
    "outputId": "ede735d1-a555-4d18-bafa-8aaa80d99cd6"
   },
   "outputs": [],
   "source": [
    "df[\"Intake Date\"] = pd.to_datetime(df[\"Intake Date\"])\n",
    "df[\"Outcome Date\"] = pd.to_datetime(df[\"Outcome Date\"])\n",
    "\n",
    "df[\"length_of_stay\"] = (df[\"Outcome Date\"] - df[\"Intake Date\"]).dt.days\n",
    "\n",
    "df[\"Outcome Type\"] = df[\"Outcome Type\"].str.strip().str.lower()\n",
    "\n",
    "df_return = df[df[\"Outcome Type\"] == \"return to owner\"]\n",
    "\n",
    "df_return[\"Type\"] = df_return[\"Type\"].str.strip().str.lower()\n",
    "df_return = df_return[df_return[\"Type\"].isin([\"cat\", \"dog\"])]\n",
    "df_return = df_return[(df_return['Days in Shelter'] <= 60)]\n",
    "\n",
    "plt.figure(figsize=(8, 6))\n",
    "df_return.boxplot(column=\"length_of_stay\", by=\"Type\", grid=False)\n",
    "plt.title(\"Length of Stay for Animals Returned to Owner by Animal Type\", fontweight='bold', fontsize=10)\n",
    "plt.suptitle(\"\")\n",
    "plt.xlabel(\"Animal Type\")\n",
    "plt.ylabel(\"Length of Stay (days)\")\n",
    "plt.show()"
   ]
  },
  {
   "cell_type": "markdown",
   "id": "b012589e",
   "metadata": {
    "id": "qaqR4FKVvKUa"
   },
   "source": [
    "It seems that cat owners will give up on retrieving their animal faster than dog owners..."
   ]
  },
  {
   "cell_type": "markdown",
   "id": "19b64c05",
   "metadata": {
    "id": "05ea9473"
   },
   "source": [
    "## Conclusions"
   ]
  },
  {
   "cell_type": "markdown",
   "id": "026ff552",
   "metadata": {
    "id": "gczUjeHafqXM"
   },
   "source": [
    "For now we still need to explore more and improve the notebook. As it stands it's pretty messy but we just wanted to explore as much as we could first and see if we found anything of interest or significance rather than caring too much about form. As we hone down on our areas of interest we will make the data look better and have better descriptions and organization. Lastly exploring the effects of color might be more interesting(given our exploration) so we might pivot to focus more on that."
   ]
  },
  {
   "cell_type": "code",
   "execution_count": null,
   "id": "f63c20fd-5ccf-4a48-a634-2124824f20a8",
   "metadata": {},
   "outputs": [],
   "source": []
  }
 ],
 "metadata": {
  "jupytext": {
   "formats": "ipynb,py:percent"
  },
  "kernelspec": {
   "display_name": "Python [conda env:anaconda3]",
   "language": "python",
   "name": "conda-env-anaconda3-py"
  },
  "language_info": {
   "codemirror_mode": {
    "name": "ipython",
    "version": 3
   },
   "file_extension": ".py",
   "mimetype": "text/x-python",
   "name": "python",
   "nbconvert_exporter": "python",
   "pygments_lexer": "ipython3",
   "version": "3.6.4"
  }
 },
 "nbformat": 4,
 "nbformat_minor": 5
}
